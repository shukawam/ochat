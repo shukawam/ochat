{
 "cells": [
  {
   "cell_type": "markdown",
   "metadata": {},
   "source": [
    "## Setup Oracle Vector Store\n",
    "\n",
    "Oracle Database を Vector Store として活用するための設定を行います。"
   ]
  },
  {
   "cell_type": "code",
   "execution_count": null,
   "metadata": {},
   "outputs": [],
   "source": [
    "import os\n",
    "from dotenv import load_dotenv, find_dotenv\n",
    "import glob\n",
    "\n",
    "import oracledb\n",
    "\n",
    "from langfuse import Langfuse\n",
    "from langfuse.callback import CallbackHandler\n",
    "\n",
    "from langchain_community.vectorstores import OracleVS\n",
    "from langchain_community.document_loaders import TextLoader\n",
    "from langchain_community.vectorstores.utils import DistanceStrategy\n",
    "from langchain_community.document_loaders.oracleai import OracleTextSplitter\n",
    "from langchain_community.embeddings.oci_generative_ai import OCIGenAIEmbeddings"
   ]
  },
  {
   "cell_type": "markdown",
   "metadata": {},
   "source": [
    "必要な環境変数を `.env` から読み込みます"
   ]
  },
  {
   "cell_type": "code",
   "execution_count": null,
   "metadata": {},
   "outputs": [],
   "source": [
    "_ = load_dotenv(find_dotenv())\n",
    "\n",
    "# Oracle Database\n",
    "un = os.getenv(\"ORACLE_USERNAME\")\n",
    "pw = os.getenv(\"ORACLE_PASSWORD\")\n",
    "dsn = os.getenv(\"ORACLE_DSN\")\n",
    "config_dir = \"/tmp/wallet\"\n",
    "wallet_location = \"/tmp/wallet\"\n",
    "wallet_password = os.getenv(\"WALLET_PASSWORD\")\n",
    "table_name = os.getenv(\"TABLE_NAME\")\n",
    "\n",
    "# OCI\n",
    "compartment_id = os.getenv(\"COMPARTMENT_ID\")\n",
    "service_endpoint = os.getenv(\"SERVICE_ENDPOINT\")\n",
    "\n",
    "# Langfuse\n",
    "secret_key = os.getenv(\"LANGFUSE_SECRET_KEY\")\n",
    "public_key = os.getenv(\"LANGFUSE_PUBLIC_KEY\")\n",
    "langfuse_host = os.getenv(\"LANGFUSE_HOST\")"
   ]
  },
  {
   "cell_type": "markdown",
   "metadata": {},
   "source": [
    "Langfuse のクライアントを初期化する"
   ]
  },
  {
   "cell_type": "code",
   "execution_count": null,
   "metadata": {},
   "outputs": [],
   "source": [
    "langfuse = Langfuse(\n",
    "    secret_key=secret_key,\n",
    "    public_key=public_key,\n",
    "    host=langfuse_host\n",
    ")\n",
    "langfuse_handler = CallbackHandler(\n",
    "    secret_key=secret_key,\n",
    "    public_key=public_key,\n",
    "    host=langfuse_host\n",
    ")"
   ]
  },
  {
   "cell_type": "markdown",
   "metadata": {},
   "source": [
    "1回目の場合は以下セルも実行"
   ]
  },
  {
   "cell_type": "code",
   "execution_count": null,
   "metadata": {},
   "outputs": [],
   "source": [
    "with oracledb.connect(\n",
    "    user=un,\n",
    "    password=pw,\n",
    "    dsn=dsn,\n",
    "    config_dir=config_dir,\n",
    "    wallet_location=wallet_location,\n",
    "    wallet_password=wallet_password\n",
    ") as connection:\n",
    "    # べき等性が保たれるようにテーブルを削除する\n",
    "    cursor = connection.cursor()\n",
    "    cursor.execute(\n",
    "        statement=f\"\"\"\n",
    "            drop table if exists {table_name}\n",
    "        \"\"\"\n",
    "    )\n",
    "    embeddings = OCIGenAIEmbeddings(\n",
    "        auth_type=\"INSTANCE_PRINCIPAL\",\n",
    "        model_id=\"cohere.embed-multilingual-v3.0\",\n",
    "        service_endpoint=service_endpoint,\n",
    "        compartment_id=compartment_id,\n",
    "    )\n",
    "    oracle_vs = OracleVS(\n",
    "        client=connection,\n",
    "        embedding_function=embeddings,\n",
    "        table_name=table_name,\n",
    "        distance_strategy=DistanceStrategy.COSINE,\n",
    "    )\n",
    "    \n",
    "    files = glob.glob(\"../data/thinkit/*.txt\")\n",
    "    \n",
    "    documents = []\n",
    "    for file in files:\n",
    "        loader = TextLoader(file_path=file)\n",
    "        document = loader.load()\n",
    "        documents.extend(document)\n",
    "    \n",
    "    # see: https://docs.oracle.com/en/database/oracle/oracle-database/23/sqlrf/vector_chunks.html#SQLRF-GUID-5927E2FA-6419-4744-A7CB-3E62DBB027AD\n",
    "    params = {\n",
    "        \"split\": \"recursively\",\n",
    "        \"max\": 400,\n",
    "        \"by\": \"characters\",\n",
    "        \"overlap\": 80,\n",
    "        \"normalize\": \"all\",\n",
    "        \"language\": \"JAPANESE\"\n",
    "    }\n",
    "    splitter = OracleTextSplitter(conn=connection, params=params)\n",
    "    \n",
    "    chunks = splitter.split_documents(documents=documents)\n",
    "    oracle_vs.add_documents(documents=chunks)"
   ]
  },
  {
   "cell_type": "code",
   "execution_count": null,
   "metadata": {},
   "outputs": [],
   "source": [
    "with oracledb.connect(\n",
    "    user=un,\n",
    "    password=pw,\n",
    "    dsn=dsn,\n",
    "    config_dir=config_dir,\n",
    "    wallet_location=wallet_location,\n",
    "    wallet_password=wallet_password\n",
    ") as connection:\n",
    "    oracle_vs = OracleVS(\n",
    "        client=connection,\n",
    "        embedding_function=embeddings,\n",
    "        table_name=\"OCHAT\",\n",
    "        distance_strategy=DistanceStrategy.COSINE,\n",
    "        query=\"What is a Oracle Database\"\n",
    "    )\n",
    "    result = oracle_vs.similarity_search(\n",
    "        query=\"OCHaCafeってなんですか？\",\n",
    "        k=5\n",
    "    )\n",
    "    print(result)"
   ]
  }
 ],
 "metadata": {
  "kernelspec": {
   "display_name": ".venv",
   "language": "python",
   "name": "python3"
  },
  "language_info": {
   "codemirror_mode": {
    "name": "ipython",
    "version": 3
   },
   "file_extension": ".py",
   "mimetype": "text/x-python",
   "name": "python",
   "nbconvert_exporter": "python",
   "pygments_lexer": "ipython3",
   "version": "3.11.7"
  }
 },
 "nbformat": 4,
 "nbformat_minor": 2
}
