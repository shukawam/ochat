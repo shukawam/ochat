{
 "cells": [
  {
   "cell_type": "markdown",
   "metadata": {},
   "source": [
    "## Simple RAG\n",
    "\n",
    "Oracle Database を検索システムとして用いたシンプルな RAG 構成のコードです。"
   ]
  },
  {
   "cell_type": "code",
   "execution_count": null,
   "metadata": {},
   "outputs": [],
   "source": [
    "import os\n",
    "from dotenv import load_dotenv, find_dotenv\n",
    "\n",
    "from langfuse import Langfuse\n",
    "from langfuse.callback import CallbackHandler\n",
    "\n",
    "import oracledb\n",
    "\n",
    "from langchain_core.prompts.chat import ChatPromptTemplate\n",
    "from langchain_core.runnables import RunnablePassthrough\n",
    "from langchain_core.output_parsers import StrOutputParser\n",
    "from langchain_community.vectorstores import OracleVS\n",
    "from langchain_community.vectorstores.utils import DistanceStrategy\n",
    "from langchain_community.embeddings.oci_generative_ai import OCIGenAIEmbeddings\n",
    "from langchain_community.chat_models.oci_generative_ai import ChatOCIGenAI"
   ]
  },
  {
   "cell_type": "markdown",
   "metadata": {},
   "source": [
    "必要な環境変数を `.env` から読み込みます。"
   ]
  },
  {
   "cell_type": "code",
   "execution_count": null,
   "metadata": {},
   "outputs": [],
   "source": [
    "_ = load_dotenv(find_dotenv())\n",
    "\n",
    "# Oracle Database\n",
    "un = os.getenv(\"ORACLE_USERNAME\")\n",
    "pw = os.getenv(\"ORACLE_PASSWORD\")\n",
    "dsn = os.getenv(\"ORACLE_DSN\")\n",
    "config_dir = \"/tmp/wallet\"\n",
    "wallet_location = \"/tmp/wallet\"\n",
    "wallet_password = os.getenv(\"WALLET_PASSWORD\")\n",
    "table_name = os.getenv(\"TABLE_NAME\")\n",
    "\n",
    "# OCI\n",
    "compartment_id = os.getenv(\"COMPARTMENT_ID\")\n",
    "service_endpoint = os.getenv(\"SERVICE_ENDPOINT\")\n",
    "\n",
    "# Langfuse\n",
    "secret_key = os.getenv(\"LANGFUSE_SECRET_KEY\")\n",
    "public_key = os.getenv(\"LANGFUSE_PUBLIC_KEY\")\n",
    "langfuse_host = os.getenv(\"LANGFUSE_HOST\")"
   ]
  },
  {
   "cell_type": "markdown",
   "metadata": {},
   "source": [
    "Langfuse のクライアントを設定する"
   ]
  },
  {
   "cell_type": "code",
   "execution_count": null,
   "metadata": {},
   "outputs": [],
   "source": [
    "langfuse = Langfuse(\n",
    "    secret_key=secret_key,\n",
    "    public_key=public_key,\n",
    "    host=langfuse_host\n",
    ")\n",
    "langfuse_handler = CallbackHandler(\n",
    "    secret_key=secret_key,\n",
    "    public_key=public_key,\n",
    "    host=langfuse_host,\n",
    "    sample_rate=0.5\n",
    ")"
   ]
  },
  {
   "cell_type": "markdown",
   "metadata": {},
   "source": [
    "モデルに与えるパラメータ  \n",
    "アプリケーションにする際は、ユーザーからの選択項目にする"
   ]
  },
  {
   "cell_type": "code",
   "execution_count": null,
   "metadata": {},
   "outputs": [],
   "source": [
    "model_name = \"cohere.command-r-plus\"\n",
    "is_stream = True\n",
    "\n",
    "model_args = {\n",
    "    \"temperature\": 0.3,\n",
    "    \"max_tokens\": 1024,\n",
    "    \"top_p\": 0.75,\n",
    "    \"top_k\": 0,\n",
    "    \"frequency_penalty\": 0,\n",
    "    \"presence_penalty\": 0\n",
    "}"
   ]
  },
  {
   "cell_type": "code",
   "execution_count": null,
   "metadata": {},
   "outputs": [],
   "source": [
    "with oracledb.connect(\n",
    "    user=un,\n",
    "    password=pw,\n",
    "    dsn=dsn,\n",
    "    config_dir=config_dir,\n",
    "    wallet_location=wallet_location,\n",
    "    wallet_password=wallet_password\n",
    ") as connection:\n",
    "    embeddings = OCIGenAIEmbeddings(\n",
    "        auth_type=\"INSTANCE_PRINCIPAL\",\n",
    "        model_id=\"cohere.embed-multilingual-v3.0\",\n",
    "        service_endpoint=service_endpoint,\n",
    "        compartment_id=compartment_id,\n",
    "    )\n",
    "    oracle_vs = OracleVS(\n",
    "        client=connection,\n",
    "        embedding_function=embeddings,\n",
    "        table_name=table_name,\n",
    "        distance_strategy=DistanceStrategy.COSINE,\n",
    "        query=\"What is a Oracle Database\"\n",
    "    )\n",
    "    # Vector Store(Oracle Database 23ai)を Retriever として使用する\n",
    "    retriever = oracle_vs.as_retriever()\n",
    "    chat = ChatOCIGenAI(\n",
    "        auth_type=\"INSTANCE_PRINCIPAL\",\n",
    "        service_endpoint=service_endpoint,\n",
    "        compartment_id=compartment_id,\n",
    "        model_id=model_name,\n",
    "        is_stream=is_stream,\n",
    "        model_kwargs=model_args\n",
    "    )\n",
    "    # Langfuse 管理下のプロンプトを取得する\n",
    "    chat_prompt = ChatPromptTemplate(\n",
    "        messages=langfuse.get_prompt(name=\"ochat-prompt-with-tools\", type=\"chat\").get_langchain_prompt(),\n",
    "    )\n",
    "    # Simple な RAG Chain\n",
    "    chain = (\n",
    "        {\"query\": RunnablePassthrough(), \"context\": retriever}\n",
    "        | chat_prompt\n",
    "        | chat\n",
    "        | StrOutputParser()\n",
    "    )\n",
    "    \n",
    "    res = chain.stream(\n",
    "        \"OCHaCafeってなんですか？\",\n",
    "        config={\"callbacks\": [langfuse_handler]},\n",
    "    )\n",
    "    \n",
    "    for chunk in res:\n",
    "        print(chunk, end=\"\")"
   ]
  }
 ],
 "metadata": {
  "kernelspec": {
   "display_name": ".venv",
   "language": "python",
   "name": "python3"
  },
  "language_info": {
   "codemirror_mode": {
    "name": "ipython",
    "version": 3
   },
   "file_extension": ".py",
   "mimetype": "text/x-python",
   "name": "python",
   "nbconvert_exporter": "python",
   "pygments_lexer": "ipython3",
   "version": "3.11.7"
  }
 },
 "nbformat": 4,
 "nbformat_minor": 2
}
