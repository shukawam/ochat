{
 "cells": [
  {
   "cell_type": "markdown",
   "metadata": {},
   "source": [
    "## Setup Oracle Vector Store"
   ]
  },
  {
   "cell_type": "code",
   "execution_count": null,
   "metadata": {},
   "outputs": [],
   "source": [
    "import os\n",
    "from dotenv import load_dotenv, find_dotenv\n",
    "import glob\n",
    "\n",
    "from langfuse import Langfuse\n",
    "from langfuse.callback import CallbackHandler\n",
    "\n",
    "import oracledb\n",
    "\n",
    "from langchain_core.prompts.chat import ChatPromptTemplate\n",
    "from langchain_core.runnables import RunnablePassthrough\n",
    "from langchain_core.output_parsers import StrOutputParser\n",
    "from langchain_community.vectorstores import OracleVS\n",
    "from langchain_community.document_loaders import TextLoader\n",
    "from langchain_community.vectorstores.utils import DistanceStrategy\n",
    "from langchain_community.document_loaders.oracleai import OracleTextSplitter\n",
    "from langchain_community.embeddings.oci_generative_ai import OCIGenAIEmbeddings\n",
    "from langchain_community.chat_models.oci_generative_ai import ChatOCIGenAI\n",
    "\n",
    "_ = load_dotenv(find_dotenv())\n",
    "\n",
    "# Oracle Database\n",
    "un = os.getenv(\"ORACLE_USERNAME\")\n",
    "pw = os.getenv(\"ORACLE_PASSWORD\")\n",
    "dsn = os.getenv(\"ORACLE_DSN\")\n",
    "config_dir = \"/tmp/wallet\"\n",
    "wallet_location = \"/tmp/wallet\"\n",
    "wallet_password = os.getenv(\"WALLET_PASSWORD\")\n",
    "\n",
    "# OCI\n",
    "compartment_id = os.getenv(\"COMPARTMENT_ID\")\n",
    "service_endpoint = os.getenv(\"SERVICE_ENDPOINT\")\n",
    "\n",
    "# Langfuse\n",
    "secret_key = os.getenv(\"LANGFUSE_SECRET_KEY\")\n",
    "public_key = os.getenv(\"LANGFUSE_PUBLIC_KEY\")\n",
    "langfuse_host = os.getenv(\"LANGFUSE_HOST\")"
   ]
  },
  {
   "cell_type": "code",
   "execution_count": null,
   "metadata": {},
   "outputs": [],
   "source": [
    "langfuse = Langfuse(\n",
    "    secret_key=secret_key,\n",
    "    public_key=public_key,\n",
    "    host=langfuse_host\n",
    ")\n",
    "langfuse_handler = CallbackHandler(\n",
    "    secret_key=secret_key,\n",
    "    public_key=public_key,\n",
    "    host=langfuse_host\n",
    ")"
   ]
  },
  {
   "cell_type": "code",
   "execution_count": null,
   "metadata": {},
   "outputs": [],
   "source": [
    "embeddings = OCIGenAIEmbeddings(\n",
    "    auth_type=\"INSTANCE_PRINCIPAL\",\n",
    "    model_id=\"cohere.embed-multilingual-v3.0\",\n",
    "    service_endpoint=service_endpoint,\n",
    "    compartment_id=compartment_id,\n",
    ")"
   ]
  },
  {
   "cell_type": "markdown",
   "metadata": {},
   "source": [
    "1回目の場合は以下セルも実行"
   ]
  },
  {
   "cell_type": "code",
   "execution_count": null,
   "metadata": {},
   "outputs": [],
   "source": [
    "with oracledb.connect(\n",
    "    user=un,\n",
    "    password=pw,\n",
    "    dsn=dsn,\n",
    "    config_dir=config_dir,\n",
    "    wallet_location=wallet_location,\n",
    "    wallet_password=wallet_password\n",
    ") as connection:\n",
    "    oracle_vs = OracleVS(\n",
    "        client=connection,\n",
    "        embedding_function=embeddings,\n",
    "        table_name=\"OCHAT\",\n",
    "        distance_strategy=DistanceStrategy.COSINE,\n",
    "        query=\"What is a Oracle Database\"\n",
    "    )\n",
    "    \n",
    "    params = {\n",
    "        \"split\": \"recursively\",\n",
    "        \"max\": 400,\n",
    "        \"by\": \"characters\",\n",
    "        \"overlap\": 80,\n",
    "        \"normalize\": \"all\",\n",
    "        \"language\": \"JAPANESE\"\n",
    "    }\n",
    "    splitter = OracleTextSplitter(conn=connection, params=params)\n",
    "    \n",
    "    files = glob.glob(\"../data/thinkit/*.txt\")\n",
    "    documents = []\n",
    "    for file in files:\n",
    "        loader = TextLoader(file_path=file)\n",
    "        document = loader.load()\n",
    "        documents.extend(document)\n",
    "    \n",
    "    chunks = splitter.split_documents(documents=documents)\n",
    "    oracle_vs.add_documents(documents=chunks)"
   ]
  },
  {
   "cell_type": "code",
   "execution_count": null,
   "metadata": {},
   "outputs": [],
   "source": [
    "with oracledb.connect(\n",
    "    user=un,\n",
    "    password=pw,\n",
    "    dsn=dsn,\n",
    "    config_dir=config_dir,\n",
    "    wallet_location=wallet_location,\n",
    "    wallet_password=wallet_password\n",
    ") as connection:\n",
    "    oracle_vs = OracleVS(\n",
    "        client=connection,\n",
    "        embedding_function=embeddings,\n",
    "        table_name=\"OCHAT\",\n",
    "        distance_strategy=DistanceStrategy.COSINE,\n",
    "        query=\"What is a Oracle Database\"\n",
    "    )\n",
    "    \n",
    "    docs = oracle_vs.similarity_search(query=\"OCHaCafeってなんですか？\")\n",
    "    print(docs)"
   ]
  },
  {
   "cell_type": "code",
   "execution_count": null,
   "metadata": {},
   "outputs": [],
   "source": [
    "chat_prompt = ChatPromptTemplate(\n",
    "    messages=langfuse.get_prompt(name=\"ochat-prompt-with-tools\", type=\"chat\").get_langchain_prompt(),\n",
    ")\n",
    "\n",
    "print(chat_prompt)"
   ]
  },
  {
   "cell_type": "markdown",
   "metadata": {},
   "source": [
    "モデルに与えるパラメータ  \n",
    "アプリケーションにする際は、ユーザーからの選択項目にする"
   ]
  },
  {
   "cell_type": "code",
   "execution_count": null,
   "metadata": {},
   "outputs": [],
   "source": [
    "model_name = \"cohere.command-r-plus\"\n",
    "is_stream = True\n",
    "temperature = 0.3\n",
    "max_tokens = 1024\n",
    "top_p = 0.75\n",
    "top_k = 0\n",
    "frequency_penalty = 0\n",
    "presence_penalty = 0"
   ]
  },
  {
   "cell_type": "code",
   "execution_count": null,
   "metadata": {},
   "outputs": [],
   "source": [
    "with oracledb.connect(\n",
    "    user=un,\n",
    "    password=pw,\n",
    "    dsn=dsn,\n",
    "    config_dir=config_dir,\n",
    "    wallet_location=wallet_location,\n",
    "    wallet_password=wallet_password\n",
    ") as connection:\n",
    "    oracle_vs = OracleVS(\n",
    "        client=connection,\n",
    "        embedding_function=embeddings,\n",
    "        table_name=\"OCHAT\",\n",
    "        distance_strategy=DistanceStrategy.COSINE,\n",
    "        query=\"What is a Oracle Database\"\n",
    "    )\n",
    "    retriever = oracle_vs.as_retriever()\n",
    "    chat = ChatOCIGenAI(\n",
    "        auth_type=\"INSTANCE_PRINCIPAL\",\n",
    "        service_endpoint=service_endpoint,\n",
    "        compartment_id=compartment_id,\n",
    "        model_id=model_name,\n",
    "        is_stream=is_stream,\n",
    "        model_kwargs={\n",
    "            \"temperature\": temperature,\n",
    "            \"max_tokens\": max_tokens,\n",
    "            \"top_p\": top_p,\n",
    "            \"top_k\": top_k,\n",
    "            \"frequency_penalty\": frequency_penalty,\n",
    "            \"presence_penalty\": presence_penalty\n",
    "        }\n",
    "    )\n",
    "    chain = (\n",
    "        {\"query\": RunnablePassthrough(), \"context\": retriever}\n",
    "        | chat_prompt\n",
    "        | chat\n",
    "        | StrOutputParser()\n",
    "    )\n",
    "    \n",
    "    res = chain.stream(\n",
    "        \"OCHaCafeってなんですか？\",\n",
    "        config={\"callbacks\": [langfuse_handler]},\n",
    "    )\n",
    "    \n",
    "    for chunk in res:\n",
    "        print(chunk, end=\"\")"
   ]
  }
 ],
 "metadata": {
  "kernelspec": {
   "display_name": ".venv",
   "language": "python",
   "name": "python3"
  },
  "language_info": {
   "codemirror_mode": {
    "name": "ipython",
    "version": 3
   },
   "file_extension": ".py",
   "mimetype": "text/x-python",
   "name": "python",
   "nbconvert_exporter": "python",
   "pygments_lexer": "ipython3",
   "version": "3.11.7"
  }
 },
 "nbformat": 4,
 "nbformat_minor": 2
}
