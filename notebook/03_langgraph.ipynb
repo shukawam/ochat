{
 "cells": [
  {
   "cell_type": "markdown",
   "metadata": {},
   "source": [
    "## 03_langgraph\n",
    "\n",
    "LangGraph を用いた Agent 構成"
   ]
  },
  {
   "cell_type": "code",
   "execution_count": null,
   "metadata": {},
   "outputs": [],
   "source": [
    "import os\n",
    "from dotenv import load_dotenv, find_dotenv\n",
    "import uuid\n",
    "from typing import Literal, List\n",
    "\n",
    "import oracledb\n",
    "\n",
    "from langfuse import Langfuse\n",
    "from langfuse.callback import CallbackHandler\n",
    "\n",
    "from langchain_core.documents import Document\n",
    "from langchain_core.tools import tool\n",
    "from langchain_core.tools import Tool\n",
    "from langchain_core.prompt_values import HumanMessage\n",
    "from langchain_core.prompts.chat import ChatPromptTemplate\n",
    "from langchain_community.vectorstores.oraclevs import OracleVS\n",
    "from langchain_community.vectorstores.utils import DistanceStrategy\n",
    "from langchain_community.chat_models.oci_generative_ai import ChatOCIGenAI\n",
    "from langchain_community.embeddings.oci_generative_ai import OCIGenAIEmbeddings\n",
    "from langchain_community.tools.tavily_search.tool import TavilySearchResults\n",
    "\n",
    "from langgraph.checkpoint.memory import MemorySaver\n",
    "from langgraph.graph import END, StateGraph, MessagesState\n",
    "from langgraph.prebuilt import ToolNode"
   ]
  },
  {
   "cell_type": "markdown",
   "metadata": {},
   "source": [
    "環境変数を `.env` から取得します"
   ]
  },
  {
   "cell_type": "code",
   "execution_count": null,
   "metadata": {},
   "outputs": [],
   "source": [
    "_ = load_dotenv(find_dotenv())\n",
    "\n",
    "# Oracle Database\n",
    "un = os.getenv(\"ORACLE_USERNAME\")\n",
    "pw = os.getenv(\"ORACLE_PASSWORD\")\n",
    "dsn = os.getenv(\"ORACLE_DSN\")\n",
    "config_dir = \"/tmp/wallet\"\n",
    "wallet_location = \"/tmp/wallet\"\n",
    "wallet_password = os.getenv(\"WALLET_PASSWORD\")\n",
    "table_name = os.getenv(\"TABLE_NAME\")\n",
    "\n",
    "# Tavily\n",
    "tavily_api_key = os.getenv(\"TAVILY_API_KEY\")\n",
    "\n",
    "# OCI\n",
    "compartment_id = os.getenv(\"COMPARTMENT_ID\")\n",
    "service_endpoint = os.getenv(\"SERVICE_ENDPOINT\")\n",
    "\n",
    "# Langfuse\n",
    "secret_key = os.getenv(\"LANGFUSE_SECRET_KEY\")\n",
    "public_key = os.getenv(\"LANGFUSE_PUBLIC_KEY\")\n",
    "langfuse_host = os.getenv(\"LANGFUSE_HOST\")\n",
    "\n",
    "# Cohere\n",
    "cohere_api_key = os.getenv(\"COHERE_API_KEY\")"
   ]
  },
  {
   "cell_type": "markdown",
   "metadata": {},
   "source": [
    "Langfuse のクライアントを宣言します"
   ]
  },
  {
   "cell_type": "code",
   "execution_count": null,
   "metadata": {},
   "outputs": [],
   "source": [
    "langfuse = Langfuse(\n",
    "    secret_key=secret_key,\n",
    "    public_key=public_key,\n",
    "    host=langfuse_host\n",
    ")\n",
    "langfuse_handler = CallbackHandler(\n",
    "    secret_key=secret_key,\n",
    "    public_key=public_key,\n",
    "    host=langfuse_host,\n",
    "    sample_rate=0.5\n",
    ")"
   ]
  },
  {
   "cell_type": "markdown",
   "metadata": {},
   "source": [
    "Agent が使うツールを定義します"
   ]
  },
  {
   "cell_type": "code",
   "execution_count": null,
   "metadata": {},
   "outputs": [],
   "source": [
    "connection = oracledb.connect(\n",
    "    user=un,\n",
    "    password=pw,\n",
    "    dsn=dsn,\n",
    "    config_dir=config_dir,\n",
    "    wallet_location=wallet_location,\n",
    "    wallet_password=wallet_password\n",
    ")\n",
    "\n",
    "embeddings = OCIGenAIEmbeddings(\n",
    "    auth_type=\"INSTANCE_PRINCIPAL\",\n",
    "    model_id=\"cohere.embed-multilingual-v3.0\",\n",
    "    service_endpoint=service_endpoint,\n",
    "    compartment_id=compartment_id,\n",
    ")\n",
    "\n",
    "oracle_vs = OracleVS(\n",
    "    client=connection,\n",
    "    embedding_function=embeddings,\n",
    "    table_name=\"OCHAT\",\n",
    "    distance_strategy=DistanceStrategy.COSINE,\n",
    "    query=\"What is a Oracle Database\"\n",
    ")"
   ]
  },
  {
   "cell_type": "markdown",
   "metadata": {},
   "source": [
    "使用するツール群の宣言  \n",
    "アプリケーションとして実装するときは個別のクラス or ツール群をまとめて実装するのが綺麗そう？"
   ]
  },
  {
   "cell_type": "code",
   "execution_count": null,
   "metadata": {},
   "outputs": [],
   "source": [
    "@tool\n",
    "def search(query: str):\n",
    "    \"\"\"Call to surf the web.\"\"\"\n",
    "    if \"東京\" or \"とうきょう\" or \"Tokyo\" or \"tokyo\" in query:\n",
    "        return \"東京は今日も最高気温35度越えの猛暑です。\"\n",
    "    return \"日本は今日、全国的に晴れです。\"\n",
    "\n",
    "@tool\n",
    "def vector_search(query: str) -> List[Document]:\n",
    "    \"\"\"Using vector search(Oracle Database 23ai).\"\"\"\n",
    "    docs = oracle_vs.similarity_search(\n",
    "        query=query,\n",
    "        k=1\n",
    "    )\n",
    "    return docs\n",
    "\n",
    "web_search_tool = TavilySearchResults()"
   ]
  },
  {
   "cell_type": "code",
   "execution_count": null,
   "metadata": {},
   "outputs": [],
   "source": [
    "tools = [\n",
    "    Tool(\n",
    "        name=\"WeatherSearch\",\n",
    "        func=search,\n",
    "        description=\"天気を検索します\",\n",
    "    ),\n",
    "    Tool(\n",
    "        name=\"VectorSearch\",\n",
    "        func=vector_search,\n",
    "        description=\"OCHaCafe固有な話題やKubernetes, IaCなどクラウドネイティブ関連話題の検索に役立ちます\"\n",
    "    ),\n",
    "    web_search_tool,\n",
    "]\n",
    "\n",
    "tool_node = ToolNode(\n",
    "    tools=tools,\n",
    "    name=\"ochat-tools\",\n",
    "    tags=[\"ochat\", \"web\", \"vector\"]\n",
    ")"
   ]
  },
  {
   "cell_type": "code",
   "execution_count": null,
   "metadata": {},
   "outputs": [],
   "source": [
    "model_name = \"cohere.command-r-plus\"\n",
    "is_stream = True\n",
    "\n",
    "models_args = {\n",
    "    \"temperature\": 0.3,\n",
    "    \"max_tokens\": 1024,\n",
    "    \"top_p\": 0.75,\n",
    "    \"top_k\": 0,\n",
    "    \"frequency_penalty\": 0,\n",
    "    \"presence_penalty\": 0,\n",
    "    \"preamble_override\": langfuse.get_prompt(\n",
    "        name=\"ochat-preamble\",\n",
    "        type=\"text\"\n",
    "    ).compile()\n",
    "}"
   ]
  },
  {
   "cell_type": "markdown",
   "metadata": {},
   "source": [
    "定義したツール群を使用するようにモデルを宣言"
   ]
  },
  {
   "cell_type": "code",
   "execution_count": null,
   "metadata": {},
   "outputs": [],
   "source": [
    "model = ChatOCIGenAI(\n",
    "    auth_type=\"INSTANCE_PRINCIPAL\",\n",
    "    service_endpoint=service_endpoint,\n",
    "    compartment_id=compartment_id,\n",
    "    model_id=model_name,\n",
    "    is_stream=is_stream,\n",
    "    model_kwargs=models_args\n",
    ").bind_tools(tools=tools)"
   ]
  },
  {
   "cell_type": "code",
   "execution_count": null,
   "metadata": {},
   "outputs": [],
   "source": [
    "def should_continue(state: MessagesState) -> Literal[\"tools\", END]:\n",
    "    messages = state[\"messages\"]\n",
    "    last_message = messages[-1]\n",
    "    if last_message.tool_calls:\n",
    "        return \"tools\"\n",
    "    return END\n",
    "\n",
    "def call_model(state: MessagesState):\n",
    "    messages = state[\"messages\"]\n",
    "    response = model.invoke(messages)\n",
    "    return {\"messages\": [response]}\n"
   ]
  },
  {
   "cell_type": "code",
   "execution_count": null,
   "metadata": {},
   "outputs": [],
   "source": [
    "workflow = StateGraph(MessagesState)\n",
    "\n",
    "workflow.add_node(\"agent\", call_model)\n",
    "workflow.add_node(\"tools\", tool_node)\n",
    "\n",
    "workflow.set_entry_point(\"agent\")"
   ]
  },
  {
   "cell_type": "code",
   "execution_count": null,
   "metadata": {},
   "outputs": [],
   "source": [
    "workflow.add_conditional_edges(\"agent\", should_continue)\n",
    "\n",
    "workflow.add_edge(\"tools\", \"agent\")\n",
    "\n",
    "checkpointer = MemorySaver()"
   ]
  },
  {
   "cell_type": "code",
   "execution_count": null,
   "metadata": {},
   "outputs": [],
   "source": [
    "app = workflow.compile(checkpointer=checkpointer)\n",
    "\n",
    "app.get_graph().print_ascii()"
   ]
  },
  {
   "cell_type": "code",
   "execution_count": null,
   "metadata": {},
   "outputs": [],
   "source": [
    "session_id = str(uuid.uuid4())\n",
    "\n",
    "final_state = app.invoke(\n",
    "    input={\n",
    "        \"messages\": [\n",
    "            HumanMessage(content=\"OCHaCafeってなんでしょうか？また代表的なテーマには何がありますか？\")\n",
    "        ]\n",
    "    },\n",
    "    config={\n",
    "        \"configurable\": {\n",
    "            \"thread_id\": session_id\n",
    "        },\n",
    "        \"callbacks\": [langfuse_handler],\n",
    "    },\n",
    ")\n",
    "result = final_state[\"messages\"][-1].content\n",
    "\n",
    "print(result)"
   ]
  }
 ],
 "metadata": {
  "kernelspec": {
   "display_name": ".venv",
   "language": "python",
   "name": "python3"
  },
  "language_info": {
   "codemirror_mode": {
    "name": "ipython",
    "version": 3
   },
   "file_extension": ".py",
   "mimetype": "text/x-python",
   "name": "python",
   "nbconvert_exporter": "python",
   "pygments_lexer": "ipython3",
   "version": "3.11.7"
  }
 },
 "nbformat": 4,
 "nbformat_minor": 2
}
